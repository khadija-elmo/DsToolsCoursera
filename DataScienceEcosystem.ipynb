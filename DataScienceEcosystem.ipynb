{
 "cells": [
  {
   "cell_type": "markdown",
   "id": "a3950469",
   "metadata": {},
   "source": [
    "# Data Science Tools and Ecosystem"
   ]
  },
  {
   "cell_type": "markdown",
   "id": "41572c84",
   "metadata": {},
   "source": [
    "In this notebook, Data Science Tools and Ecosystem are summarized."
   ]
  },
  {
   "cell_type": "markdown",
   "id": "683ed260",
   "metadata": {},
   "source": [
    "**Objectives:**\n",
    "\n",
    "- List popular languages for Data Science.\n",
    "- Explain the concept of machine learning.\n",
    "- Demonstrate data visualization techniques.\n",
    "- Introduce common data science libraries.\n",
    "- Discuss best practices for data analysis."
   ]
  },
  {
   "cell_type": "markdown",
   "id": "6ba9a7bb",
   "metadata": {},
   "source": [
    "Some of the commonly used libraries used by Data Scientists include:"
   ]
  },
  {
   "cell_type": "markdown",
   "id": "bc16b395",
   "metadata": {},
   "source": [
    "1. Python\n",
    "2. R\n",
    "3. SQL\n",
    "4. Julia\n",
    "5. Java\n",
    "6. Scala\n",
    "7. JavaScript\n",
    "8. Ruby\n",
    "9. Perl\n",
    "10. Go\n"
   ]
  },
  {
   "cell_type": "markdown",
   "id": "04c2d4de",
   "metadata": {},
   "source": [
    "Some of the commonly used libraries used by Data Scientists include:"
   ]
  },
  {
   "cell_type": "markdown",
   "id": "bb5405ac",
   "metadata": {},
   "source": [
    "1. NumPy\n",
    "2. Pandas\n",
    "3. Matplotlib\n",
    "4. Seaborn\n",
    "5. scikit-learn\n",
    "6. TensorFlow\n",
    "7. Keras\n",
    "8. PyTorch\n",
    "9. Statsmodels\n",
    "10. SciPy\n",
    "11. NLTK\n",
    "12. XGBoost\n",
    "13. LightGBM\n",
    "14. H2O"
   ]
  },
  {
   "cell_type": "markdown",
   "id": "13483f33",
   "metadata": {},
   "source": [
    "| Data Science Tools |\n",
    "| ------------------ |\n",
    "| Jupyter Notebook   |\n",
    "| RStudio            |\n",
    "| VS Code with Python Extension |\n"
   ]
  },
  {
   "cell_type": "markdown",
   "id": "6ddfa8a4",
   "metadata": {},
   "source": [
    "### Below are a few examples of evaluating arithmetic expressions in Python"
   ]
  },
  {
   "cell_type": "code",
   "execution_count": 2,
   "id": "c61efbe5",
   "metadata": {},
   "outputs": [
    {
     "data": {
      "text/plain": [
       "17"
      ]
     },
     "execution_count": 2,
     "metadata": {},
     "output_type": "execute_result"
    }
   ],
   "source": [
    "#This a simple arithmetic expression to mutiply then add integers\n",
    "(3*4)+5"
   ]
  },
  {
   "cell_type": "code",
   "execution_count": 3,
   "id": "366a5286",
   "metadata": {},
   "outputs": [
    {
     "data": {
      "text/plain": [
       "3.3333333333333335"
      ]
     },
     "execution_count": 3,
     "metadata": {},
     "output_type": "execute_result"
    }
   ],
   "source": [
    "#This will convert 200 minutes to hours by diving by 60\n",
    "minutes = 200\n",
    "hours = minutes / 60\n",
    "\n",
    "# Display the result\n",
    "hours"
   ]
  },
  {
   "cell_type": "markdown",
   "id": "15bbb855",
   "metadata": {},
   "source": [
    "## Author\n",
    "Khadija EL MOUKHTAFI"
   ]
  },
  {
   "cell_type": "code",
   "execution_count": null,
   "id": "e2fb7d5b",
   "metadata": {},
   "outputs": [],
   "source": []
  }
 ],
 "metadata": {
  "kernelspec": {
   "display_name": "Python 3",
   "language": "python",
   "name": "python3"
  },
  "language_info": {
   "codemirror_mode": {
    "name": "ipython",
    "version": 3
   },
   "file_extension": ".py",
   "mimetype": "text/x-python",
   "name": "python",
   "nbconvert_exporter": "python",
   "pygments_lexer": "ipython3",
   "version": "3.8.8"
  }
 },
 "nbformat": 4,
 "nbformat_minor": 5
}
